{
 "cells": [
  {
   "cell_type": "code",
   "execution_count": 3,
   "metadata": {},
   "outputs": [],
   "source": [
    "import networkx as nx\n",
    "import matplotlib.pyplot as plot\n",
    "import pandas as pd\n",
    "import csv\n"
   ]
  },
  {
   "cell_type": "code",
   "execution_count": 4,
   "metadata": {},
   "outputs": [
    {
     "data": {
      "text/plain": [
       "25178"
      ]
     },
     "execution_count": 4,
     "metadata": {},
     "output_type": "execute_result"
    }
   ],
   "source": [
    "# 读取数据\n",
    "e = nx.read_pajek(\"egypt_retweets.net\")\n",
    "len(e) # 该图共有 25178节点"
   ]
  },
  {
   "cell_type": "markdown",
   "metadata": {},
   "source": [
    "# 组元和子图"
   ]
  },
  {
   "cell_type": "code",
   "execution_count": 5,
   "metadata": {},
   "outputs": [
    {
     "data": {
      "text/plain": [
       "3122"
      ]
     },
     "execution_count": 5,
     "metadata": {},
     "output_type": "execute_result"
    }
   ],
   "source": [
    "sub_groups=nx.connected_components(e)\n",
    "sub_groups_list = list(sub_groups)\n",
    "len(sub_groups_list) # 该图被分成3122个组元子图"
   ]
  },
  {
   "cell_type": "code",
   "execution_count": 6,
   "metadata": {},
   "outputs": [
    {
     "data": {
      "text/plain": [
       "2        2429\n",
       "3         428\n",
       "4         118\n",
       "1          42\n",
       "5          41\n",
       "6          26\n",
       "9          11\n",
       "7           7\n",
       "8           7\n",
       "10          5\n",
       "11          2\n",
       "16          2\n",
       "13          1\n",
       "17762       1\n",
       "64          1\n",
       "14          1\n",
       "dtype: int64"
      ]
     },
     "execution_count": 6,
     "metadata": {},
     "output_type": "execute_result"
    }
   ],
   "source": [
    "x = [len(c) for c in sub_groups_list]\n",
    "x_counts = pd.value_counts(x) # 统计各组元子图的频数\n",
    "x_counts  #  最大的子图包含17762 个节点，包含2个节点的子图有2429个"
   ]
  },
  {
   "cell_type": "code",
   "execution_count": 7,
   "metadata": {},
   "outputs": [],
   "source": [
    "#筛选出度数大于1的节点，并重新构建网络图\n",
    "def trim_edges(g,weight =1):\n",
    "    g2 = nx.Graph() # 创建空图\n",
    "    for f,to,edata in g.edges(data = True):\n",
    "        if edata[\"weight\"]>weight:     #edge attribute (by default `weight`)\n",
    "            g2.add_edge(f,to,edata)\n",
    "    return g2    "
   ]
  },
  {
   "cell_type": "code",
   "execution_count": 8,
   "metadata": {},
   "outputs": [],
   "source": [
    "# 网络中的岛屿方法\n",
    "def island_method(g,iterations = 5):\n",
    "    weights = [edata[\"weight\"] for f, to, edata in g.edges(data =True)]\n",
    "    mn = int(min(weights))\n",
    "    mx = int(max(weights))\n",
    "    \n",
    "    step = int((mx-mn)/iterations)\n",
    "    return [[threshold,trim_edges(g,threshold)] for threshold in range (mn,mx,step)]"
   ]
  },
  {
   "cell_type": "code",
   "execution_count": 64,
   "metadata": {},
   "outputs": [
    {
     "ename": "AttributeError",
     "evalue": "'set' object has no attribute 'edges'",
     "output_type": "error",
     "traceback": [
      "\u001b[1;31m---------------------------------------------------------------------------\u001b[0m",
      "\u001b[1;31mAttributeError\u001b[0m                            Traceback (most recent call last)",
      "\u001b[1;32m<ipython-input-64-f83e7cdb918a>\u001b[0m in \u001b[0;36m<module>\u001b[1;34m\u001b[0m\n\u001b[0;32m      2\u001b[0m \u001b[1;33m\u001b[0m\u001b[0m\n\u001b[0;32m      3\u001b[0m \u001b[1;33m\u001b[0m\u001b[0m\n\u001b[1;32m----> 4\u001b[1;33m \u001b[0mislands\u001b[0m \u001b[1;33m=\u001b[0m \u001b[0misland_method\u001b[0m\u001b[1;33m(\u001b[0m\u001b[0mcc\u001b[0m\u001b[1;33m)\u001b[0m\u001b[1;33m\u001b[0m\u001b[1;33m\u001b[0m\u001b[0m\n\u001b[0m\u001b[0;32m      5\u001b[0m \u001b[1;32mfor\u001b[0m \u001b[0mi\u001b[0m \u001b[1;32min\u001b[0m \u001b[0mislands\u001b[0m\u001b[1;33m:\u001b[0m\u001b[1;33m\u001b[0m\u001b[1;33m\u001b[0m\u001b[0m\n\u001b[0;32m      6\u001b[0m     \u001b[0mprint\u001b[0m\u001b[1;33m(\u001b[0m\u001b[0mi\u001b[0m\u001b[1;33m[\u001b[0m\u001b[1;36m0\u001b[0m\u001b[1;33m]\u001b[0m\u001b[1;33m,\u001b[0m\u001b[0mlen\u001b[0m\u001b[1;33m(\u001b[0m\u001b[0mi\u001b[0m\u001b[1;33m[\u001b[0m\u001b[1;36m1\u001b[0m\u001b[1;33m]\u001b[0m\u001b[1;33m)\u001b[0m\u001b[1;33m,\u001b[0m\u001b[0mlen\u001b[0m\u001b[1;33m(\u001b[0m\u001b[0mlist\u001b[0m\u001b[1;33m(\u001b[0m\u001b[0mnx\u001b[0m\u001b[1;33m.\u001b[0m\u001b[0mconnected_components\u001b[0m\u001b[1;33m(\u001b[0m\u001b[0mi\u001b[0m\u001b[1;33m[\u001b[0m\u001b[1;36m1\u001b[0m\u001b[1;33m]\u001b[0m\u001b[1;33m)\u001b[0m\u001b[1;33m)\u001b[0m\u001b[1;33m)\u001b[0m\u001b[1;33m)\u001b[0m\u001b[1;33m\u001b[0m\u001b[1;33m\u001b[0m\u001b[0m\n",
      "\u001b[1;32m<ipython-input-8-719fca30173d>\u001b[0m in \u001b[0;36misland_method\u001b[1;34m(g, iterations)\u001b[0m\n\u001b[0;32m      1\u001b[0m \u001b[1;31m# 网络中的岛屿方法\u001b[0m\u001b[1;33m\u001b[0m\u001b[1;33m\u001b[0m\u001b[1;33m\u001b[0m\u001b[0m\n\u001b[0;32m      2\u001b[0m \u001b[1;32mdef\u001b[0m \u001b[0misland_method\u001b[0m\u001b[1;33m(\u001b[0m\u001b[0mg\u001b[0m\u001b[1;33m,\u001b[0m\u001b[0miterations\u001b[0m \u001b[1;33m=\u001b[0m \u001b[1;36m5\u001b[0m\u001b[1;33m)\u001b[0m\u001b[1;33m:\u001b[0m\u001b[1;33m\u001b[0m\u001b[1;33m\u001b[0m\u001b[0m\n\u001b[1;32m----> 3\u001b[1;33m     \u001b[0mweights\u001b[0m \u001b[1;33m=\u001b[0m \u001b[1;33m[\u001b[0m\u001b[0medata\u001b[0m\u001b[1;33m[\u001b[0m\u001b[1;34m\"weight\"\u001b[0m\u001b[1;33m]\u001b[0m \u001b[1;32mfor\u001b[0m \u001b[0mf\u001b[0m\u001b[1;33m,\u001b[0m \u001b[0mto\u001b[0m\u001b[1;33m,\u001b[0m \u001b[0medata\u001b[0m \u001b[1;32min\u001b[0m \u001b[0mg\u001b[0m\u001b[1;33m.\u001b[0m\u001b[0medges\u001b[0m\u001b[1;33m(\u001b[0m\u001b[0mdata\u001b[0m \u001b[1;33m=\u001b[0m\u001b[1;32mTrue\u001b[0m\u001b[1;33m)\u001b[0m\u001b[1;33m]\u001b[0m\u001b[1;33m\u001b[0m\u001b[1;33m\u001b[0m\u001b[0m\n\u001b[0m\u001b[0;32m      4\u001b[0m     \u001b[0mmn\u001b[0m \u001b[1;33m=\u001b[0m \u001b[0mint\u001b[0m\u001b[1;33m(\u001b[0m\u001b[0mmin\u001b[0m\u001b[1;33m(\u001b[0m\u001b[0mweights\u001b[0m\u001b[1;33m)\u001b[0m\u001b[1;33m)\u001b[0m\u001b[1;33m\u001b[0m\u001b[1;33m\u001b[0m\u001b[0m\n\u001b[0;32m      5\u001b[0m     \u001b[0mmx\u001b[0m \u001b[1;33m=\u001b[0m \u001b[0mint\u001b[0m\u001b[1;33m(\u001b[0m\u001b[0mmax\u001b[0m\u001b[1;33m(\u001b[0m\u001b[0mweights\u001b[0m\u001b[1;33m)\u001b[0m\u001b[1;33m)\u001b[0m\u001b[1;33m\u001b[0m\u001b[1;33m\u001b[0m\u001b[0m\n",
      "\u001b[1;31mAttributeError\u001b[0m: 'set' object has no attribute 'edges'"
     ]
    }
   ],
   "source": [
    "cc = max(nx.connected_components(e),key=len)  # connected_components默认降序排序\n",
    "\n",
    "islands = island_method(cc)\n",
    "for i in islands:\n",
    "    print(i[0],len(i[1]),len(list(nx.connected_components(i[1]))))"
   ]
  },
  {
   "cell_type": "code",
   "execution_count": 74,
   "metadata": {},
   "outputs": [],
   "source": [
    "#a= max(nx.connected_components(e),key=len) \n",
    "\n",
    "for i in nx.connected_components(e):\n",
    "    if i==0:\n",
    "        gg = e.subgraph(c)\n"
   ]
  },
  {
   "cell_type": "code",
   "execution_count": 77,
   "metadata": {},
   "outputs": [],
   "source": [
    "S = [e.subgraph(c).copy() for c in nx.connected_components(e)]"
   ]
  },
  {
   "cell_type": "code",
   "execution_count": 81,
   "metadata": {},
   "outputs": [
    {
     "ename": "NetworkXError",
     "evalue": "nbunch is not a node or a sequence of nodes.",
     "output_type": "error",
     "traceback": [
      "\u001b[1;31m---------------------------------------------------------------------------\u001b[0m",
      "\u001b[1;31mTypeError\u001b[0m                                 Traceback (most recent call last)",
      "\u001b[1;32mD:\\software\\Anaconda3\\lib\\site-packages\\networkx\\classes\\graph.py\u001b[0m in \u001b[0;36mbunch_iter\u001b[1;34m(nlist, adj)\u001b[0m\n\u001b[0;32m   1895\u001b[0m                 \u001b[1;32mtry\u001b[0m\u001b[1;33m:\u001b[0m\u001b[1;33m\u001b[0m\u001b[1;33m\u001b[0m\u001b[0m\n\u001b[1;32m-> 1896\u001b[1;33m                     \u001b[1;32mfor\u001b[0m \u001b[0mn\u001b[0m \u001b[1;32min\u001b[0m \u001b[0mnlist\u001b[0m\u001b[1;33m:\u001b[0m\u001b[1;33m\u001b[0m\u001b[1;33m\u001b[0m\u001b[0m\n\u001b[0m\u001b[0;32m   1897\u001b[0m                         \u001b[1;32mif\u001b[0m \u001b[0mn\u001b[0m \u001b[1;32min\u001b[0m \u001b[0madj\u001b[0m\u001b[1;33m:\u001b[0m\u001b[1;33m\u001b[0m\u001b[1;33m\u001b[0m\u001b[0m\n",
      "\u001b[1;31mTypeError\u001b[0m: 'int' object is not iterable",
      "\nThe above exception was the direct cause of the following exception:\n",
      "\u001b[1;31mNetworkXError\u001b[0m                             Traceback (most recent call last)",
      "\u001b[1;32m<ipython-input-81-c4225a18e569>\u001b[0m in \u001b[0;36m<module>\u001b[1;34m\u001b[0m\n\u001b[1;32m----> 1\u001b[1;33m \u001b[0me\u001b[0m\u001b[1;33m.\u001b[0m\u001b[0msubgraph\u001b[0m\u001b[1;33m(\u001b[0m\u001b[1;36m0\u001b[0m\u001b[1;33m)\u001b[0m\u001b[1;33m.\u001b[0m\u001b[0mcopy\u001b[0m\u001b[1;33m(\u001b[0m\u001b[1;33m)\u001b[0m\u001b[1;33m\u001b[0m\u001b[1;33m\u001b[0m\u001b[0m\n\u001b[0m",
      "\u001b[1;32mD:\\software\\Anaconda3\\lib\\site-packages\\networkx\\classes\\graph.py\u001b[0m in \u001b[0;36msubgraph\u001b[1;34m(self, nodes)\u001b[0m\n\u001b[0;32m   1704\u001b[0m         \u001b[1;33m[\u001b[0m\u001b[1;33m(\u001b[0m\u001b[1;36m0\u001b[0m\u001b[1;33m,\u001b[0m \u001b[1;36m1\u001b[0m\u001b[1;33m)\u001b[0m\u001b[1;33m,\u001b[0m \u001b[1;33m(\u001b[0m\u001b[1;36m1\u001b[0m\u001b[1;33m,\u001b[0m \u001b[1;36m2\u001b[0m\u001b[1;33m)\u001b[0m\u001b[1;33m]\u001b[0m\u001b[1;33m\u001b[0m\u001b[1;33m\u001b[0m\u001b[0m\n\u001b[0;32m   1705\u001b[0m         \"\"\"\n\u001b[1;32m-> 1706\u001b[1;33m         \u001b[0minduced_nodes\u001b[0m \u001b[1;33m=\u001b[0m \u001b[0mnx\u001b[0m\u001b[1;33m.\u001b[0m\u001b[0mfilters\u001b[0m\u001b[1;33m.\u001b[0m\u001b[0mshow_nodes\u001b[0m\u001b[1;33m(\u001b[0m\u001b[0mself\u001b[0m\u001b[1;33m.\u001b[0m\u001b[0mnbunch_iter\u001b[0m\u001b[1;33m(\u001b[0m\u001b[0mnodes\u001b[0m\u001b[1;33m)\u001b[0m\u001b[1;33m)\u001b[0m\u001b[1;33m\u001b[0m\u001b[1;33m\u001b[0m\u001b[0m\n\u001b[0m\u001b[0;32m   1707\u001b[0m         \u001b[1;31m# if already a subgraph, don't make a chain\u001b[0m\u001b[1;33m\u001b[0m\u001b[1;33m\u001b[0m\u001b[1;33m\u001b[0m\u001b[0m\n\u001b[0;32m   1708\u001b[0m         \u001b[0msubgraph\u001b[0m \u001b[1;33m=\u001b[0m \u001b[0mnx\u001b[0m\u001b[1;33m.\u001b[0m\u001b[0mgraphviews\u001b[0m\u001b[1;33m.\u001b[0m\u001b[0msubgraph_view\u001b[0m\u001b[1;33m\u001b[0m\u001b[1;33m\u001b[0m\u001b[0m\n",
      "\u001b[1;32mD:\\software\\Anaconda3\\lib\\site-packages\\networkx\\classes\\filters.py\u001b[0m in \u001b[0;36m__init__\u001b[1;34m(self, nodes)\u001b[0m\n\u001b[0;32m     50\u001b[0m \u001b[1;32mclass\u001b[0m \u001b[0mshow_nodes\u001b[0m\u001b[1;33m:\u001b[0m\u001b[1;33m\u001b[0m\u001b[1;33m\u001b[0m\u001b[0m\n\u001b[0;32m     51\u001b[0m     \u001b[1;32mdef\u001b[0m \u001b[0m__init__\u001b[0m\u001b[1;33m(\u001b[0m\u001b[0mself\u001b[0m\u001b[1;33m,\u001b[0m \u001b[0mnodes\u001b[0m\u001b[1;33m)\u001b[0m\u001b[1;33m:\u001b[0m\u001b[1;33m\u001b[0m\u001b[1;33m\u001b[0m\u001b[0m\n\u001b[1;32m---> 52\u001b[1;33m         \u001b[0mself\u001b[0m\u001b[1;33m.\u001b[0m\u001b[0mnodes\u001b[0m \u001b[1;33m=\u001b[0m \u001b[0mset\u001b[0m\u001b[1;33m(\u001b[0m\u001b[0mnodes\u001b[0m\u001b[1;33m)\u001b[0m\u001b[1;33m\u001b[0m\u001b[1;33m\u001b[0m\u001b[0m\n\u001b[0m\u001b[0;32m     53\u001b[0m \u001b[1;33m\u001b[0m\u001b[0m\n\u001b[0;32m     54\u001b[0m     \u001b[1;32mdef\u001b[0m \u001b[0m__call__\u001b[0m\u001b[1;33m(\u001b[0m\u001b[0mself\u001b[0m\u001b[1;33m,\u001b[0m \u001b[0mnode\u001b[0m\u001b[1;33m)\u001b[0m\u001b[1;33m:\u001b[0m\u001b[1;33m\u001b[0m\u001b[1;33m\u001b[0m\u001b[0m\n",
      "\u001b[1;32mD:\\software\\Anaconda3\\lib\\site-packages\\networkx\\classes\\graph.py\u001b[0m in \u001b[0;36mbunch_iter\u001b[1;34m(nlist, adj)\u001b[0m\n\u001b[0;32m   1902\u001b[0m                     \u001b[1;32mif\u001b[0m \u001b[1;34m\"iter\"\u001b[0m \u001b[1;32min\u001b[0m \u001b[0mmessage\u001b[0m\u001b[1;33m:\u001b[0m\u001b[1;33m\u001b[0m\u001b[1;33m\u001b[0m\u001b[0m\n\u001b[0;32m   1903\u001b[0m                         \u001b[0mmsg\u001b[0m \u001b[1;33m=\u001b[0m \u001b[1;34m\"nbunch is not a node or a sequence of nodes.\"\u001b[0m\u001b[1;33m\u001b[0m\u001b[1;33m\u001b[0m\u001b[0m\n\u001b[1;32m-> 1904\u001b[1;33m                         \u001b[1;32mraise\u001b[0m \u001b[0mNetworkXError\u001b[0m\u001b[1;33m(\u001b[0m\u001b[0mmsg\u001b[0m\u001b[1;33m)\u001b[0m \u001b[1;32mfrom\u001b[0m \u001b[0me\u001b[0m\u001b[1;33m\u001b[0m\u001b[1;33m\u001b[0m\u001b[0m\n\u001b[0m\u001b[0;32m   1905\u001b[0m                     \u001b[1;31m# capture error for unhashable node.\u001b[0m\u001b[1;33m\u001b[0m\u001b[1;33m\u001b[0m\u001b[1;33m\u001b[0m\u001b[0m\n\u001b[0;32m   1906\u001b[0m                     \u001b[1;32melif\u001b[0m \u001b[1;34m\"hashable\"\u001b[0m \u001b[1;32min\u001b[0m \u001b[0mmessage\u001b[0m\u001b[1;33m:\u001b[0m\u001b[1;33m\u001b[0m\u001b[1;33m\u001b[0m\u001b[0m\n",
      "\u001b[1;31mNetworkXError\u001b[0m: nbunch is not a node or a sequence of nodes."
     ]
    }
   ],
   "source": []
  },
  {
   "cell_type": "markdown",
   "metadata": {},
   "source": [
    "# 自我中心网络"
   ]
  },
  {
   "cell_type": "code",
   "execution_count": 10,
   "metadata": {},
   "outputs": [
    {
     "data": {
      "text/plain": [
       "<networkx.classes.multigraph.MultiGraph at 0x1ea20b684f0>"
      ]
     },
     "execution_count": 10,
     "metadata": {},
     "output_type": "execute_result"
    }
   ],
   "source": [
    "nx.ego_graph(e,\"justinbieber\")\n"
   ]
  },
  {
   "cell_type": "code",
   "execution_count": 11,
   "metadata": {},
   "outputs": [
    {
     "data": {
      "text/plain": [
       "22"
      ]
     },
     "execution_count": 11,
     "metadata": {},
     "output_type": "execute_result"
    }
   ],
   "source": [
    "#将自我中心网络转化为一个简单的图。以justinbieber的自我中心图为例，仅有22人转发其推特\n",
    "bieb = nx.Graph(nx.ego_graph(e,\"justinbieber\",radius = 2))\n",
    "len(bieb)  #自我中心网络中度为22,\n"
   ]
  },
  {
   "cell_type": "code",
   "execution_count": 12,
   "metadata": {},
   "outputs": [
    {
     "data": {
      "text/plain": [
       "0.12727272727272726"
      ]
     },
     "execution_count": 12,
     "metadata": {},
     "output_type": "execute_result"
    }
   ],
   "source": [
    "nx.average_clustering(bieb)"
   ]
  },
  {
   "cell_type": "code",
   "execution_count": 13,
   "metadata": {},
   "outputs": [
    {
     "data": {
      "text/plain": [
       "3450"
      ]
     },
     "execution_count": 13,
     "metadata": {},
     "output_type": "execute_result"
    }
   ],
   "source": [
    "# Ghonim是新一代埃及人，google主管.人们对他的信息转发较多，形成信任网络\n",
    "ghonim = nx.Graph(nx.ego_graph(e,\"Ghonim\",radius = 2))\n",
    "len(ghonim)"
   ]
  },
  {
   "cell_type": "code",
   "execution_count": 14,
   "metadata": {},
   "outputs": [
    {
     "data": {
      "text/plain": [
       "0.04332254475699311"
      ]
     },
     "execution_count": 14,
     "metadata": {},
     "output_type": "execute_result"
    }
   ],
   "source": [
    "nx.average_clustering(ghonim)"
   ]
  },
  {
   "cell_type": "markdown",
   "metadata": {},
   "source": [
    "# 三元组"
   ]
  },
  {
   "cell_type": "code",
   "execution_count": 15,
   "metadata": {},
   "outputs": [],
   "source": [
    "# 打开文件\n",
    "in_file = csv.reader(open(\"9_11_edgelist.txt\",\"r\"))\n"
   ]
  },
  {
   "cell_type": "code",
   "execution_count": 16,
   "metadata": {},
   "outputs": [],
   "source": [
    "g = nx.Graph()\n",
    "for line in in_file:\n",
    "    g.add_edge(line[0],line[1],weight = line[2],conf = line[3])\n"
   ]
  },
  {
   "cell_type": "code",
   "execution_count": 20,
   "metadata": {},
   "outputs": [
    {
     "data": {
      "image/png": "[encoded data removed]",
      "text/plain": [
       "<Figure size 432x288 with 1 Axes>"
      ]
     },
     "metadata": {},
     "output_type": "display_data"
    },
    {
     "name": "stdout",
     "output_type": "stream",
     "text": [
      "['Hani Hanjour', 'Majed Moqed', 'Nawaf Alhazmi', 'Khalid Al-Mihdhar', 'Lotfi Raissi', 'Bandar Alhazmi', 'Rayed Mohammed Abdullah', 'Salem Alhazmi', 'Hamza Alghamdi', 'Ahmed Alnami', 'Saeed Alghamdi', 'Abdussattar Shaikh', 'Osama Awadallah', 'Mohamed Atta', 'Abdul Aziz Al-Omari', 'Marwan Al-Shehhi', 'Ziad Jarrah', 'Said Bahaji', 'Ramzi Bin al-Shibh', 'Zakariya Essabar', 'Essid Sami Ben Khemais', 'Waleed Alshehri', 'Wail Alshehri', 'Satam Suqami', 'Fayez Ahmed', 'Mohand Alshehri', 'Mustafa Ahmed al-Hisawi', 'Ahmed Alghamdi', 'Ahmed Al Haznawi', 'Zacarias Moussaoui', 'Djamal Beghal', 'Jerome Courtaillier', 'David Courtaillier', 'Ahmed Ressam', 'Kamel Daoudi', 'Tarek Maaroufi', 'Faisal Al Salmi', 'Mohamed Abdi', 'Mamoun Darkazanli', 'Ahmed Khalil Ibrahim Samir Al-Ani', 'Agus Budiman', 'Mounir El Motassadeq ', 'Abdelghani Mzoudi', 'Imad Eddin Barakat Yarkas', 'Nabil al-Marabh', 'Raed Hijazi', 'Abu Qatada', 'Mamduh Mahmud Salim', 'Mohammed Belfas', 'Abu Walid', 'Mohammed Jaweed Azmath', 'Ayub Ali Khan', 'Usman Bandukra', 'Nabil Almarabh', 'Haydar Abu Doha', 'Mohamed Bensakhria', 'Lased Ben Heni', 'Mehdi Khammoun', 'Essoussi Laaroussi', 'Samir Kishk', 'Fahid al Shakri', 'Seifallah ben Hassine', 'Karim Koubriti', 'Ahmen Hannan', 'Nizar Trabelsi', 'Jean-Marc Grandvisir', 'Abu Zubeida', 'Mohammad Pervez', 'Madjid Sahoune']\n"
     ]
    }
   ],
   "source": [
    "#确定所有的节点都具有flight属性\n",
    "for n in g.nodes():\n",
    "    g.nodes[n][\"flight\"] = \"None\"\n",
    "\n",
    "nx.draw(g)\n",
    "plot.show()\n",
    "\n",
    "print(g.nodes)  # 打印节点属性"
   ]
  },
  {
   "cell_type": "code",
   "execution_count": 21,
   "metadata": {
    "scrolled": false
   },
   "outputs": [
    {
     "name": "stdout",
     "output_type": "stream",
     "text": [
      "['Hani Hanjour', 'Majed Moqed', 'Nawaf Alhazmi', 'Khalid Al-Mihdhar', 'Lotfi Raissi', 'Bandar Alhazmi', 'Rayed Mohammed Abdullah', 'Salem Alhazmi', 'Hamza Alghamdi', 'Ahmed Alnami', 'Saeed Alghamdi', 'Abdussattar Shaikh', 'Osama Awadallah', 'Mohamed Atta', 'Abdul Aziz Al-Omari', 'Marwan Al-Shehhi', 'Ziad Jarrah', 'Said Bahaji', 'Ramzi Bin al-Shibh', 'Zakariya Essabar', 'Essid Sami Ben Khemais', 'Waleed Alshehri', 'Wail Alshehri', 'Satam Suqami', 'Fayez Ahmed', 'Mohand Alshehri', 'Mustafa Ahmed al-Hisawi', 'Ahmed Alghamdi', 'Ahmed Al Haznawi', 'Zacarias Moussaoui', 'Djamal Beghal', 'Jerome Courtaillier', 'David Courtaillier', 'Ahmed Ressam', 'Kamel Daoudi', 'Tarek Maaroufi', 'Faisal Al Salmi', 'Mohamed Abdi', 'Mamoun Darkazanli', 'Ahmed Khalil Ibrahim Samir Al-Ani', 'Agus Budiman', 'Mounir El Motassadeq ', 'Abdelghani Mzoudi', 'Imad Eddin Barakat Yarkas', 'Nabil al-Marabh', 'Raed Hijazi', 'Abu Qatada', 'Mamduh Mahmud Salim', 'Mohammed Belfas', 'Abu Walid', 'Mohammed Jaweed Azmath', 'Ayub Ali Khan', 'Usman Bandukra', 'Nabil Almarabh', 'Haydar Abu Doha', 'Mohamed Bensakhria', 'Lased Ben Heni', 'Mehdi Khammoun', 'Essoussi Laaroussi', 'Samir Kishk', 'Fahid al Shakri', 'Seifallah ben Hassine', 'Karim Koubriti', 'Ahmen Hannan', 'Nizar Trabelsi', 'Jean-Marc Grandvisir', 'Abu Zubeida', 'Mohammad Pervez', 'Madjid Sahoune']\n"
     ]
    }
   ],
   "source": [
    "attrb = csv.reader(open(\"9_11_attrib.txt\",\"r\"))\n",
    "for line in attrb:\n",
    "    g.nodes[line[0]][\"flight\"] = line[1]\n",
    "\n",
    "print(g.nodes)"
   ]
  },
  {
   "cell_type": "code",
   "execution_count": 23,
   "metadata": {},
   "outputs": [],
   "source": [
    "components = nx.connected_components(g)  # 默认按照从大到小的顺序排列"
   ]
  },
  {
   "cell_type": "code",
   "execution_count": 29,
   "metadata": {},
   "outputs": [
    {
     "data": {
      "text/plain": [
       "{'Abdelghani Mzoudi',\n",
       " 'Abdul Aziz Al-Omari',\n",
       " 'Abdussattar Shaikh',\n",
       " 'Abu Qatada',\n",
       " 'Abu Walid',\n",
       " 'Abu Zubeida',\n",
       " 'Agus Budiman',\n",
       " 'Ahmed Al Haznawi',\n",
       " 'Ahmed Alghamdi',\n",
       " 'Ahmed Alnami',\n",
       " 'Ahmed Khalil Ibrahim Samir Al-Ani',\n",
       " 'Ahmed Ressam',\n",
       " 'Bandar Alhazmi',\n",
       " 'David Courtaillier',\n",
       " 'Djamal Beghal',\n",
       " 'Essid Sami Ben Khemais',\n",
       " 'Essoussi Laaroussi',\n",
       " 'Fahid al Shakri',\n",
       " 'Faisal Al Salmi',\n",
       " 'Fayez Ahmed',\n",
       " 'Hamza Alghamdi',\n",
       " 'Hani Hanjour',\n",
       " 'Haydar Abu Doha',\n",
       " 'Imad Eddin Barakat Yarkas',\n",
       " 'Jean-Marc Grandvisir',\n",
       " 'Jerome Courtaillier',\n",
       " 'Kamel Daoudi',\n",
       " 'Khalid Al-Mihdhar',\n",
       " 'Lased Ben Heni',\n",
       " 'Lotfi Raissi',\n",
       " 'Madjid Sahoune',\n",
       " 'Majed Moqed',\n",
       " 'Mamduh Mahmud Salim',\n",
       " 'Mamoun Darkazanli',\n",
       " 'Marwan Al-Shehhi',\n",
       " 'Mehdi Khammoun',\n",
       " 'Mohamed Abdi',\n",
       " 'Mohamed Atta',\n",
       " 'Mohamed Bensakhria',\n",
       " 'Mohammed Belfas',\n",
       " 'Mohand Alshehri',\n",
       " 'Mounir El Motassadeq ',\n",
       " 'Mustafa Ahmed al-Hisawi',\n",
       " 'Nabil Almarabh',\n",
       " 'Nabil al-Marabh',\n",
       " 'Nawaf Alhazmi',\n",
       " 'Nizar Trabelsi',\n",
       " 'Osama Awadallah',\n",
       " 'Raed Hijazi',\n",
       " 'Ramzi Bin al-Shibh',\n",
       " 'Rayed Mohammed Abdullah',\n",
       " 'Saeed Alghamdi',\n",
       " 'Said Bahaji',\n",
       " 'Salem Alhazmi',\n",
       " 'Samir Kishk',\n",
       " 'Satam Suqami',\n",
       " 'Seifallah ben Hassine',\n",
       " 'Tarek Maaroufi',\n",
       " 'Wail Alshehri',\n",
       " 'Waleed Alshehri',\n",
       " 'Zacarias Moussaoui',\n",
       " 'Zakariya Essabar',\n",
       " 'Ziad Jarrah'}"
      ]
     },
     "execution_count": 29,
     "metadata": {},
     "output_type": "execute_result"
    }
   ],
   "source": [
    "list(components)[0]"
   ]
  },
  {
   "cell_type": "code",
   "execution_count": 33,
   "metadata": {},
   "outputs": [],
   "source": [
    "#使用multimode.py中的函数绘图\n",
    "#这个函数读入节点属性，并根据节点属性的取值分配颜色，绘制彩色图\n",
    "from collections import defaultdict\n",
    "\n",
    "def plot_multimode(m,layout = nx.spring_layout,type_string = \"type\",filename_prefix = \"\",output_type = \"pdf\"):\n",
    "    ## 创建一个默认的颜色序列和一个空的彩色图\n",
    "    colors =[\"r\",\"g\",\"b\",\"c\",\"m\",\"y\",\"k\"]\n",
    "    colormap ={}\n",
    "    d = nx.degree(m) #degree 决定节点的大小\n",
    "    pos = layout(m)\n",
    "    \n",
    "    ##绘制不同颜色的节点构成的群体\n",
    "    nodesets = defaultdict(list)\n",
    "    for n in m.nodes():\n",
    "        t = m.node[n][type_string]\n",
    "        nodesets[t].append(n)\n",
    "        \n",
    "    ## 使用相应的颜色设置，将每组中的节点分开绘制\n",
    "    ##绘制节点\n",
    "    i = 0\n",
    "    for key in nodesets.keys():\n",
    "        ns = [d[n]*100 for n in nodesets[key]]\n",
    "        nx.draw_networkx_nodes(m,pos,nodelist = nodesets[key],node_size = ns,node_color = colors[i],alpha = 0.6)\n",
    "        colormap[key] = colors[i]\n",
    "        i+= 1\n",
    "        if i == len(colors): \n",
    "            i = 0 ### 如果用完了列表中的颜色，则循环使用这些颜色\n",
    "    print(colormap)\n",
    "    \n",
    "    ## 使用默认的绘图机制绘制边\n",
    "    nx.draw_networkx_edges(m,pos,width = 0.5,alpha = 0.5)\n",
    "    plot.axis(\"off\")\n",
    "    \n",
    "    if filename_prefix != \"\":\n",
    "        plot.savefig(filename_prefix + \".\"+ out_type)\n"
   ]
  },
  {
   "cell_type": "code",
   "execution_count": 36,
   "metadata": {},
   "outputs": [
    {
     "ename": "AttributeError",
     "evalue": "'set' object has no attribute 'degree'",
     "output_type": "error",
     "traceback": [
      "\u001b[1;31m---------------------------------------------------------------------------\u001b[0m",
      "\u001b[1;31mAttributeError\u001b[0m                            Traceback (most recent call last)",
      "\u001b[1;32m<ipython-input-36-39a5eb21a689>\u001b[0m in \u001b[0;36m<module>\u001b[1;34m\u001b[0m\n\u001b[1;32m----> 1\u001b[1;33m \u001b[0mplot_multimode\u001b[0m\u001b[1;33m(\u001b[0m\u001b[0mcc\u001b[0m\u001b[1;33m,\u001b[0m\u001b[0mtype_string\u001b[0m \u001b[1;33m=\u001b[0m \u001b[1;34m\"flight\"\u001b[0m\u001b[1;33m)\u001b[0m  \u001b[1;31m# type_string指引函数就某种需要辨别的属性\u001b[0m\u001b[1;33m\u001b[0m\u001b[1;33m\u001b[0m\u001b[0m\n\u001b[0m",
      "\u001b[1;32m<ipython-input-33-166c3ec4fa76>\u001b[0m in \u001b[0;36mplot_multimode\u001b[1;34m(m, layout, type_string, filename_prefix, output_type)\u001b[0m\n\u001b[0;32m      7\u001b[0m     \u001b[0mcolors\u001b[0m \u001b[1;33m=\u001b[0m\u001b[1;33m[\u001b[0m\u001b[1;34m\"r\"\u001b[0m\u001b[1;33m,\u001b[0m\u001b[1;34m\"g\"\u001b[0m\u001b[1;33m,\u001b[0m\u001b[1;34m\"b\"\u001b[0m\u001b[1;33m,\u001b[0m\u001b[1;34m\"c\"\u001b[0m\u001b[1;33m,\u001b[0m\u001b[1;34m\"m\"\u001b[0m\u001b[1;33m,\u001b[0m\u001b[1;34m\"y\"\u001b[0m\u001b[1;33m,\u001b[0m\u001b[1;34m\"k\"\u001b[0m\u001b[1;33m]\u001b[0m\u001b[1;33m\u001b[0m\u001b[1;33m\u001b[0m\u001b[0m\n\u001b[0;32m      8\u001b[0m     \u001b[0mcolormap\u001b[0m \u001b[1;33m=\u001b[0m\u001b[1;33m{\u001b[0m\u001b[1;33m}\u001b[0m\u001b[1;33m\u001b[0m\u001b[1;33m\u001b[0m\u001b[0m\n\u001b[1;32m----> 9\u001b[1;33m     \u001b[0md\u001b[0m \u001b[1;33m=\u001b[0m \u001b[0mnx\u001b[0m\u001b[1;33m.\u001b[0m\u001b[0mdegree\u001b[0m\u001b[1;33m(\u001b[0m\u001b[0mm\u001b[0m\u001b[1;33m)\u001b[0m \u001b[1;31m#degree 决定节点的大小\u001b[0m\u001b[1;33m\u001b[0m\u001b[1;33m\u001b[0m\u001b[0m\n\u001b[0m\u001b[0;32m     10\u001b[0m     \u001b[0mpos\u001b[0m \u001b[1;33m=\u001b[0m \u001b[0mlayout\u001b[0m\u001b[1;33m(\u001b[0m\u001b[0mm\u001b[0m\u001b[1;33m)\u001b[0m\u001b[1;33m\u001b[0m\u001b[1;33m\u001b[0m\u001b[0m\n\u001b[0;32m     11\u001b[0m \u001b[1;33m\u001b[0m\u001b[0m\n",
      "\u001b[1;32mD:\\software\\Anaconda3\\lib\\site-packages\\networkx\\classes\\function.py\u001b[0m in \u001b[0;36mdegree\u001b[1;34m(G, nbunch, weight)\u001b[0m\n\u001b[0;32m     73\u001b[0m     \u001b[0mIf\u001b[0m \u001b[0mnbunch\u001b[0m \u001b[1;32mis\u001b[0m \u001b[0momitted\u001b[0m\u001b[1;33m,\u001b[0m \u001b[0mthen\u001b[0m \u001b[1;32mreturn\u001b[0m \u001b[0mdegrees\u001b[0m \u001b[0mof\u001b[0m \u001b[1;33m*\u001b[0m\u001b[0mall\u001b[0m\u001b[1;33m*\u001b[0m \u001b[0mnodes\u001b[0m\u001b[1;33m.\u001b[0m\u001b[1;33m\u001b[0m\u001b[1;33m\u001b[0m\u001b[0m\n\u001b[0;32m     74\u001b[0m     \"\"\"\n\u001b[1;32m---> 75\u001b[1;33m     \u001b[1;32mreturn\u001b[0m \u001b[0mG\u001b[0m\u001b[1;33m.\u001b[0m\u001b[0mdegree\u001b[0m\u001b[1;33m(\u001b[0m\u001b[0mnbunch\u001b[0m\u001b[1;33m,\u001b[0m \u001b[0mweight\u001b[0m\u001b[1;33m)\u001b[0m\u001b[1;33m\u001b[0m\u001b[1;33m\u001b[0m\u001b[0m\n\u001b[0m\u001b[0;32m     76\u001b[0m \u001b[1;33m\u001b[0m\u001b[0m\n\u001b[0;32m     77\u001b[0m \u001b[1;33m\u001b[0m\u001b[0m\n",
      "\u001b[1;31mAttributeError\u001b[0m: 'set' object has no attribute 'degree'"
     ]
    }
   ],
   "source": [
    "plot_multimode(cc,type_string = \"flight\")  # type_string指引函数就某种需要辨别的属性"
   ]
  },
  {
   "cell_type": "code",
   "execution_count": null,
   "metadata": {},
   "outputs": [],
   "source": []
  }
 ],
 "metadata": {
  "kernelspec": {
   "display_name": "Python 3",
   "language": "python",
   "name": "python3"
  },
  "language_info": {
   "codemirror_mode": {
    "name": "ipython",
    "version": 3
   },
   "file_extension": ".py",
   "mimetype": "text/x-python",
   "name": "python",
   "nbconvert_exporter": "python",
   "pygments_lexer": "ipython3",
   "version": "3.8.5"
  }
 },
 "nbformat": 4,
 "nbformat_minor": 4
}
