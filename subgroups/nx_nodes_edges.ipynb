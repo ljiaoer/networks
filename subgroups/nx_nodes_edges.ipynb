{
 "cells": [
  {
   "cell_type": "code",
   "execution_count": 47,
   "metadata": {},
   "outputs": [],
   "source": [
    "import networkx as nx\n",
    "import matplotlib.pyplot as plt \n",
    "import numpy as np\n"
   ]
  },
  {
   "cell_type": "markdown",
   "metadata": {},
   "source": [
    "# 图的创建和清空"
   ]
  },
  {
   "cell_type": "code",
   "execution_count": 6,
   "metadata": {},
   "outputs": [],
   "source": [
    "G = nx.Graph() # 创建无向图\n",
    "G = nx.DiGraph() # 创建有向图\n",
    "G = nx.MultiGraph() # 创建多重无向图\n",
    "G.clear() #清空图"
   ]
  },
  {
   "cell_type": "markdown",
   "metadata": {},
   "source": [
    "# 节点操作\n"
   ]
  },
  {
   "cell_type": "markdown",
   "metadata": {},
   "source": [
    "### 节点增加"
   ]
  },
  {
   "cell_type": "code",
   "execution_count": 13,
   "metadata": {},
   "outputs": [
    {
     "data": {
      "image/png": "[encoded data removed]",
      "text/plain": [
       "<Figure size 432x288 with 1 Axes>"
      ]
     },
     "metadata": {},
     "output_type": "display_data"
    }
   ],
   "source": [
    "G = nx.Graph()                 #建立一个空的无向图G\n",
    "G.add_node('a')                  #添加一个节点1\n",
    "G.add_nodes_from(['b','c','d','e'])    #加点集合\n",
    "nx.add_cycle(G,['f','g','h','j'])         #加环\n",
    "\n",
    "nx.draw(G, with_labels=True)  # 画图，with_labels表示图中带有节点名称label\n"
   ]
  },
  {
   "cell_type": "markdown",
   "metadata": {},
   "source": [
    "### 节点访问"
   ]
  },
  {
   "cell_type": "code",
   "execution_count": 14,
   "metadata": {},
   "outputs": [
    {
     "name": "stdout",
     "output_type": "stream",
     "text": [
      "图中所有的节点 ['a', 'b', 'c', 'd', 'e', 'f', 'g', 'h', 'j']\n",
      "图中节点的个数 9\n"
     ]
    }
   ],
   "source": [
    "print('图中所有的节点', G.nodes())  # G.nodes()返回所有节点组成的列表。\n",
    "print('图中节点的个数', G.number_of_nodes())"
   ]
  },
  {
   "cell_type": "markdown",
   "metadata": {},
   "source": [
    "### 删除节点"
   ]
  },
  {
   "cell_type": "code",
   "execution_count": 21,
   "metadata": {},
   "outputs": [],
   "source": [
    "#G.remove_node(\"b\")    #删除指定节点\n",
    "G.remove_nodes_from(['c','d','e'])    # 删除集合中的节点"
   ]
  },
  {
   "cell_type": "markdown",
   "metadata": {},
   "source": [
    "# 边操作"
   ]
  },
  {
   "cell_type": "markdown",
   "metadata": {},
   "source": [
    "###  增加边"
   ]
  },
  {
   "cell_type": "code",
   "execution_count": 22,
   "metadata": {},
   "outputs": [
    {
     "data": {
      "image/png": "[encoded data removed]",
      "text/plain": [
       "<Figure size 432x288 with 1 Axes>"
      ]
     },
     "metadata": {},
     "output_type": "display_data"
    }
   ],
   "source": [
    "F = nx.Graph() # 创建无向图\n",
    "F.add_edge(1,2)   #一次添加一条边\n",
    "#等价于以下代码\n",
    "e=(3,4)        #e是一个元组\n",
    "F.add_edge(*e) #这是python中解包裹的过程\n",
    "F.add_edges_from([(5,6),(6,7)])     #通过添加list来添加多条边\n",
    "\n",
    "nx.draw(F, with_labels=True)  # 画图\n",
    "plt.show()"
   ]
  },
  {
   "cell_type": "markdown",
   "metadata": {},
   "source": [
    "### 访问边 "
   ]
  },
  {
   "cell_type": "code",
   "execution_count": 23,
   "metadata": {},
   "outputs": [
    {
     "name": "stdout",
     "output_type": "stream",
     "text": [
      "图中所有的边 [(1, 2), (3, 4), (5, 6), (6, 7)]\n",
      "图中边的个数 4\n"
     ]
    }
   ],
   "source": [
    "print('图中所有的边', F.edges())  #F.edges()返回一个列表，列表中每个元组表示一条边：\n",
    "\n",
    "print('图中边的个数', F.number_of_edges())"
   ]
  },
  {
   "cell_type": "markdown",
   "metadata": {},
   "source": [
    "### 删除边"
   ]
  },
  {
   "cell_type": "code",
   "execution_count": 24,
   "metadata": {},
   "outputs": [],
   "source": [
    "F.remove_edge(1,2)  # 删除单条边\n",
    "F.remove_edges_from([(3,4), (5,6)])  # 根据列表删除一组边"
   ]
  },
  {
   "cell_type": "markdown",
   "metadata": {},
   "source": [
    "# 属性\n",
    "图、边、节点都可以有自己的属性，比如weight、color、label、alpha等。\n",
    "图、边和节点的属性都是通过一个字典来保存的，默认字典为空，即没有属性。"
   ]
  },
  {
   "cell_type": "markdown",
   "metadata": {},
   "source": [
    "### 图的属性"
   ]
  },
  {
   "cell_type": "code",
   "execution_count": 28,
   "metadata": {},
   "outputs": [
    {
     "name": "stdout",
     "output_type": "stream",
     "text": [
      "{'day': 'Friday', 'name': 'graph', 'time': '5.00', 'color': 'red'}\n",
      "{'day': 'Friday', 'name': 'graph', 'time': '5.00', 'color': 'red'}\n"
     ]
    }
   ],
   "source": [
    "G1 = nx.Graph(day='Monday', name='graph', time='5.00', color='red')    #可以在创建图时分配图的属性\n",
    "print(G1.graph)\n",
    "\n",
    "G1.graph['day'] = 'Friday'  # 修改图的属性\n",
    "print(G1.graph)"
   ]
  },
  {
   "cell_type": "code",
   "execution_count": 31,
   "metadata": {},
   "outputs": [
    {
     "data": {
      "text/plain": [
       "NodeView(())"
      ]
     },
     "execution_count": 31,
     "metadata": {},
     "output_type": "execute_result"
    }
   ],
   "source": [
    "#nx.draw(G1,with_labels=True)\n",
    "#plt.show()\n",
    "\n",
    "G1.nodes()"
   ]
  },
  {
   "cell_type": "markdown",
   "metadata": {},
   "source": [
    "### 节点属性"
   ]
  },
  {
   "cell_type": "code",
   "execution_count": 35,
   "metadata": {},
   "outputs": [
    {
     "data": {
      "image/png": "[encoded data removed]",
      "text/plain": [
       "<Figure size 432x288 with 1 Axes>"
      ]
     },
     "metadata": {},
     "output_type": "display_data"
    }
   ],
   "source": [
    "G = nx.Graph(day='Monday', name='graph', time='5.00', color='red')    #可以在创建图时分配图的属性\n",
    "\n",
    "G.add_node(1, size=1, color='blue', alpha=1, name='node1')  # 添加单个节点时，指定节点属性\n",
    "\n",
    "G.add_nodes_from([(2, {'size': 2, 'color': 'blue'}), (3, {'size': 3, 'color': 'greed'})])  # 从列表批量添加节点时，每个节点和属性字典组成tuple\n",
    "\n",
    "G.nodes[1]['size'] = 10  # 修改节点属性\n",
    "\n",
    "nx.draw(G, with_labels=True)\n",
    "plt.show()\n",
    "\n",
    "#注意，这里节点的属性和画出的图没有关系。例如，代码中指定节点的color属性为blue，然而画出的图中节点color还是红色。所以说节点的属性和画出的节点的样子这里是没有关系的。\n"
   ]
  },
  {
   "cell_type": "markdown",
   "metadata": {},
   "source": [
    "### 边属性"
   ]
  },
  {
   "cell_type": "code",
   "execution_count": 36,
   "metadata": {},
   "outputs": [
    {
     "name": "stdout",
     "output_type": "stream",
     "text": [
      "[(1, 2, {'weight': 10})]\n",
      "[(1, 2, None), (1, 3, 22), (4, 5, 22)]\n",
      "[(1, 2, {'weight': 10}), (1, 3, {'len': 22}), (1, 4, {'high': 'unknow'}), (3, 4, {'hight': 10}), (4, 5, {'len': 22})]\n",
      "[(1, 2, {'weight': 100000}), (1, 3, {'len': 22}), (1, 4, {'high': 'unknow'}), (3, 4, {'hight': 10}), (4, 5, {'len': 22})]\n"
     ]
    }
   ],
   "source": [
    "G.add_edge(1,2,weight=10)                    #在添加边时分配属性\n",
    "print(G.edges(data=True))\n",
    "\n",
    "G.add_edges_from([(1,3), (4,5)], len=22)     #从集合中添加边时分配属性\n",
    "print(G.edges(data='len'))\n",
    "\n",
    "G.add_edges_from([(3,4,{'hight':10}),(1,4,{'high':'unknow'})])  # 从集合添加边时，如果每个边带有不同的属性，将边和属性字典组成tuple\n",
    "print(G.edges(data=True))\n",
    "\n",
    "G[1][2]['weight'] = 100000                   # 可以通过G[][][]来添加或修改边的属性\n",
    "print(G.edges(data=True))\n",
    "\n",
    "# 边的weight属性是一个特殊属性，表示边的权重，只能设置为数字类型。\n"
   ]
  },
  {
   "cell_type": "markdown",
   "metadata": {},
   "source": [
    "# 画图\n",
    "使用draw()函数"
   ]
  },
  {
   "cell_type": "code",
   "execution_count": 37,
   "metadata": {},
   "outputs": [
    {
     "data": {
      "image/png": "[encoded data removed]",
      "text/plain": [
       "<Figure size 432x288 with 1 Axes>"
      ]
     },
     "metadata": {},
     "output_type": "display_data"
    }
   ],
   "source": [
    "G = nx.Graph()\n",
    "G.add_nodes_from([x for x in range(5)])  # 加点\n",
    "G.add_edges_from([(a, (a+1)%5) for a in range(5)])  # 连线\n",
    "\n",
    "nx.draw(G, with_labels=True)  # 画图G，with_labels是否显示标签\n",
    "plt.show()"
   ]
  },
  {
   "cell_type": "markdown",
   "metadata": {},
   "source": [
    "### 一些画图属性"
   ]
  },
  {
   "cell_type": "raw",
   "metadata": {},
   "source": [
    "属性\t描述\n",
    "node_size\t节点大小，默认300\n",
    "node_color\t节点颜色，默认red\n",
    "node_shape\t节点形状，默认’o’\n",
    "alpha\t透明度，默认1，不透明\n",
    "width\t边的宽度，默认1\n",
    "edge_color\t边的颜色，默认黑色\n",
    "style\t边的样式，默认为实线，可选择solid、dashed、dotted、dashdot\n",
    "with_labels\t节点是否带标签，默认True\n",
    "font_size\t字体大小，默认12\n",
    "font_color\t节点标签的字的颜色，默认黑色"
   ]
  },
  {
   "cell_type": "markdown",
   "metadata": {},
   "source": [
    "### 节点布局"
   ]
  },
  {
   "cell_type": "code",
   "execution_count": 38,
   "metadata": {},
   "outputs": [],
   "source": [
    "pos = nx.kamada_kawai_layout(G)\n"
   ]
  },
  {
   "cell_type": "raw",
   "metadata": {},
   "source": [
    "布局种类：\n",
    "\n",
    "布局种类如下：\n",
    "\n",
    "circular_layout：节点在一个圆环上均匀分布\n",
    "random_layout：节点随机分布\n",
    "shell_layout：节点在同心圆上分布\n",
    "spring_layout： 用Fruchterman-Reingold算法排列节点（这个算法我不了解，样子类似多中心放射状）\n",
    "spectral_layout：根据图的拉普拉斯特征向量排列节"
   ]
  },
  {
   "cell_type": "markdown",
   "metadata": {},
   "source": [
    "### 画图函数\n",
    "nx.draw()函数"
   ]
  },
  {
   "cell_type": "raw",
   "metadata": {},
   "source": [
    "nx.draw()函数参数（Parameters）:\n",
    "\n",
    "1. G (graph) – A networkx graph\n",
    "2. pos (dictionary, optional) – dict, key是node， value是位置。 默认spring layout positioning。\n",
    "3. ax (Matplotlib Axes object, optional) – 在指定的 Matplotlib axes 中画图。\n",
    "4. hold (bool, optional) – Set the Matplotlib hold state. If True subsequent draw commands will be added to the current axes.\n",
    "\\\\kwds – 详细的其他可选参数见 networkx.draw_networkx()。"
   ]
  },
  {
   "cell_type": "code",
   "execution_count": 39,
   "metadata": {},
   "outputs": [
    {
     "data": {
      "image/png": "[encoded data removed]",
      "text/plain": [
       "<Figure size 432x288 with 1 Axes>"
      ]
     },
     "metadata": {},
     "output_type": "display_data"
    }
   ],
   "source": [
    "# Example:\n",
    "G = nx.Graph()\n",
    "G.add_nodes_from([x for x in range(10)])\n",
    "G.add_edges_from([(a,(a+1)%5) for a in range(10)])\n",
    "\n",
    "pos = nx.circular_layout(G)  # 环形布局\n",
    "nx.draw(G, \n",
    "\tpos=pos, with_labels=True, \n",
    "\tnode_size=300, node_color='blue', node_shape='*', \n",
    "\talpha=0.5, edge_color='red', \n",
    "\twidth=3, style='dotted', \n",
    "\tfont_size=15)\n",
    "plt.show()"
   ]
  },
  {
   "cell_type": "markdown",
   "metadata": {},
   "source": [
    "#### nx.draw_networkx() 函数"
   ]
  },
  {
   "cell_type": "raw",
   "metadata": {},
   "source": [
    "nx.draw_networkx() 函数，该函数是nx.draw()的升级版。允许配置更多的参数：\n",
    "\n",
    "G (graph) – A networkx graph\n",
    "pos (dictionary, optional) – dict, key是node， value是位置。 默认spring layout positioning。\n",
    "arrows (bool, optional (default=True)) – 对于有向图，如果设置为True，边会带有箭头\n",
    "with_labels (bool, optional (default=True)) – 是否显示节点label\n",
    "ax (Matplotlib Axes object, optional) – Draw the graph in the specified Matplotlib axes.\n",
    "nodelist (list, optional (default G.nodes())) – 如果给定节点，则只画指定的节点\n",
    "edgelist (list, optional (default=G.edges())) – 如果给定边，则只画指定的边\n",
    "node_size (scalar or array, optional (default=300)) – 节点大小。如果为每个节点指定不同的大小，则传入一个数组，数组长度必须等于图中节点个数。\n",
    "node_color (color string, or array of floats, (default=’r’)) – 节点颜色。可以是一种颜色的字符串，也可以是和节点数相同的颜色序列（为每个节点分别指定颜色）。如果给定的是数值，则会使用cmap和vmin，vmax参数映射到颜色。\n",
    "node_shape (string, optional (default=’o’)) – 节点形状。必须是 so^>v<dph8 之一。\n",
    "alpha (float, optional (default=1.0)) – 节点和边的透明度\n",
    "cmap (Matplotlib colormap, optional (default=None)) – Colormap for mapping intensities of nodes\n",
    "vmin,vmax (float, optional (default=None)) – Minimum and maximum for node colormap scaling\n",
    "linewidths ([None | scalar | sequence]) – 符号边缘的宽度，默认1.0\n",
    "width (float, optional (default=1.0)) – 边的宽度\n",
    "edge_color (color string, or array of floats (default=’r’)) – 边的颜色。可以是表示单一颜色的字符串，也可以是和边数相同的序列（为每条边指定不同颜色）。如果给定的是数值，则按照edge_cmpa,edge_vmin,edge_vmax参数映射到颜色。\n",
    "edge_cmap (Matplotlib colormap, optional (default=None)) – Colormap for mapping intensities of edges\n",
    "edge_vmin,edge_vmax (floats, optional (default=None)) – Minimum and maximum for edge colormap scaling\n",
    "style (string, optional (default=’solid’)) – 边的样式 (solid|dashed|dotted,dashdot)\n",
    "labels (dictionary, optional (default=None)) – 节点的label。字典形式，key是节点，value是节点的label。\n",
    "font_size (int, optional (default=12)) – label的字体大小。\n",
    "font_color (string, optional (default=’k’ black)) – 字体颜色\n",
    "font_weight (string, optional (default=’normal’)) – 字体加粗\n",
    "font_family (string, optional (default=’sans-serif’)) – 字体\n",
    "label (string, optional) – Label for graph legend\n"
   ]
  },
  {
   "cell_type": "markdown",
   "metadata": {},
   "source": [
    "#### nx.draw_networkx_nodes() 画点"
   ]
  },
  {
   "cell_type": "raw",
   "metadata": {},
   "source": [
    "nx.draw_networkx_nodes() 画点，该函数参数与上面两个函数相同，不过该函数只画图中的点。\n",
    "\n",
    "参数：\n",
    "G (graph) – A networkx graph\n",
    "pos (dictionary) – 字典，key是节点，value是位置。位置需要用(x, y)的形式来表示。\n",
    "ax (Matplotlib Axes object, optional) – Draw the graph in the specified Matplotlib axes.\n",
    "nodelist (list, optional) – Draw only specified nodes (default G.nodes())\n",
    "node_size (scalar or array) – Size of nodes (default=300). If an array is specified it must be the same length as nodelist.\n",
    "node_color (color string, or array of floats) – Node color. Can be a single color format string (default=’r’), or a sequence of colors with the same length as nodelist. If numeric values are specified they will be mapped to colors using the cmap and vmin,vmax parameters. See matplotlib.scatter for more details.\n",
    "node_shape (string) – 节点形状\n",
    "alpha (float) – 节点透明度（默认1.0)\n",
    "cmap (Matplotlib colormap) – Colormap for mapping intensities of nodes (default=None)\n",
    "vmin,vmax (floats) – Minimum and maximum for node colormap scaling (default=None)\n",
    "linewidths ([None | scalar | sequence]) – 符号边缘的宽度，默认1.0\n",
    "label ([None| string]) – Label for legend\n",
    "\n",
    "\n",
    "\n",
    "Return 节点的PathCollection。（matplotlib.collections.PathCollection类）"
   ]
  },
  {
   "cell_type": "code",
   "execution_count": 40,
   "metadata": {},
   "outputs": [
    {
     "data": {
      "image/png": "[encoded data removed]",
      "text/plain": [
       "<Figure size 432x288 with 1 Axes>"
      ]
     },
     "metadata": {},
     "output_type": "display_data"
    }
   ],
   "source": [
    "#example：\n",
    "G = nx.Graph()\n",
    "G.add_nodes_from([x for x in range(10)])\n",
    "G.add_edges_from([(a, (a+1)%5) for a in range(10)])\n",
    "pos = nx.circular_layout(G)\n",
    "# 点和布局都没变，与前面一样，不过下面使用draw_networkx_nodes函数\n",
    "nx.draw_networkx_nodes(G, pos=pos, node_size=300, node_color='blue', node_shape='*', alpha=0.5)\n",
    "plt.show()"
   ]
  },
  {
   "cell_type": "markdown",
   "metadata": {},
   "source": [
    "#### nx.draw_networkx_labels() 函数 "
   ]
  },
  {
   "cell_type": "raw",
   "metadata": {},
   "source": [
    "nx.draw_networkx_labels() 画点的labels。 该函数只画节点的label。参数解释：\n",
    "\n",
    "G (graph) – A networkx graph\n",
    "pos (dictionary) – A dictionary with nodes as keys and positions as values. Positions should be sequences of length 2.\n",
    "labels (dictionary, optional (default=None)) – 节点的label，以dict的形式存储。key是节点，value是节点的label。\n",
    "font_size (int) – 节点label的字体大小 (default=12)\n",
    "font_color (string) – 节点label的字体颜色 (default=’k’ black)\n",
    "font_family (string) – 节点label的字体 (default=’sans-serif’)\n",
    "font_weight (string) – 字体是否加粗 (default=’normal’)\n",
    "alpha (float) – 字体的透明度 (default=1.0)\n",
    "ax (Matplotlib Axes object, optional) – Draw the graph in the specified Matplotlib axes.\n",
    "\n",
    "\n",
    "Return 一个dict，key是节点，value是label。\n",
    "\n"
   ]
  },
  {
   "cell_type": "markdown",
   "metadata": {},
   "source": [
    "#### nx.draw_networkx_edges() 函数："
   ]
  },
  {
   "cell_type": "raw",
   "metadata": {},
   "source": [
    "nx.draw_networkx_edges() 画线，同理，该函数只画线。参数：\n",
    "\n",
    "G (graph) – A networkx graph\n",
    "pos (dictionary) – A dictionary with nodes as keys and positions as values. Positions should be sequences of length 2.\n",
    "edgelist (collection of edge tuples) – 如果指定边的列表，则只画指定的边。(default=G.edges())\n",
    "width (float, or array of floats) – 边宽度(default=1.0)\n",
    "edge_color (color string, or array of floats) – Edge color. Can be a single color format string (default=’r’), or a sequence of colors with the same length as edgelist. If numeric values are specified they will be mapped to colors using the edge_cmap and edge_vmin,edge_vmax parameters.\n",
    "style (string) – 边的形状(default=’solid’) (solid|dashed|dotted,dashdot)\n",
    "alpha (float) – 边的透明度(default=1.0)\n",
    "cmap (edge) – Colormap for mapping intensities of edges (default=None)\n",
    "edge_vmin,edge_vmax (floats) – Minimum and maximum for edge colormap scaling (default=None)\n",
    "ax (Matplotlib Axes object, optional) – Draw the graph in the specified Matplotlib axes.\n",
    "arrows (bool, optional (default=True)) – For directed graphs, if True draw arrowheads.\n",
    "label ([None| string]) – Label for legend\n",
    "\n"
   ]
  },
  {
   "cell_type": "code",
   "execution_count": 42,
   "metadata": {},
   "outputs": [
    {
     "ename": "TypeError",
     "evalue": "draw_networkx_edges() got an unexpected keyword argument 'with_labels'",
     "output_type": "error",
     "traceback": [
      "\u001b[1;31m---------------------------------------------------------------------------\u001b[0m",
      "\u001b[1;31mTypeError\u001b[0m                                 Traceback (most recent call last)",
      "\u001b[1;32m<ipython-input-42-1af364f6af06>\u001b[0m in \u001b[0;36m<module>\u001b[1;34m\u001b[0m\n\u001b[0;32m      1\u001b[0m \u001b[1;31m#Example：\u001b[0m\u001b[1;33m\u001b[0m\u001b[1;33m\u001b[0m\u001b[1;33m\u001b[0m\u001b[0m\n\u001b[1;32m----> 2\u001b[1;33m \u001b[0mnx\u001b[0m\u001b[1;33m.\u001b[0m\u001b[0mdraw_networkx_edges\u001b[0m\u001b[1;33m(\u001b[0m\u001b[0mG\u001b[0m\u001b[1;33m,\u001b[0m \u001b[0mpos\u001b[0m\u001b[1;33m=\u001b[0m\u001b[0mpos\u001b[0m\u001b[1;33m,\u001b[0m \u001b[0mwith_labels\u001b[0m\u001b[1;33m=\u001b[0m\u001b[1;32mTrue\u001b[0m\u001b[1;33m,\u001b[0m \u001b[0mnode_size\u001b[0m\u001b[1;33m=\u001b[0m\u001b[1;36m300\u001b[0m\u001b[1;33m,\u001b[0m \u001b[0mnode_color\u001b[0m\u001b[1;33m=\u001b[0m\u001b[1;34m'blue'\u001b[0m\u001b[1;33m,\u001b[0m \u001b[0mnode_shape\u001b[0m\u001b[1;33m=\u001b[0m\u001b[1;34m'*'\u001b[0m\u001b[1;33m,\u001b[0m \u001b[0malpha\u001b[0m\u001b[1;33m=\u001b[0m\u001b[1;36m0.5\u001b[0m\u001b[1;33m,\u001b[0m \u001b[0medge_color\u001b[0m\u001b[1;33m=\u001b[0m\u001b[1;34m'red'\u001b[0m\u001b[1;33m,\u001b[0m \u001b[0mwidth\u001b[0m\u001b[1;33m=\u001b[0m\u001b[1;36m3\u001b[0m\u001b[1;33m,\u001b[0m \u001b[0mstyle\u001b[0m\u001b[1;33m=\u001b[0m\u001b[1;34m'dotted'\u001b[0m\u001b[1;33m,\u001b[0m \u001b[0mfont_size\u001b[0m\u001b[1;33m=\u001b[0m\u001b[1;36m15\u001b[0m\u001b[1;33m)\u001b[0m\u001b[1;33m\u001b[0m\u001b[1;33m\u001b[0m\u001b[0m\n\u001b[0m",
      "\u001b[1;31mTypeError\u001b[0m: draw_networkx_edges() got an unexpected keyword argument 'with_labels'"
     ]
    }
   ],
   "source": [
    "#Example：\n",
    "#nx.draw_networkx_edges(G, pos=pos, with_labels=True, node_size=300, node_color='blue', node_shape='*', alpha=0.5, edge_color='red', width=3, style='dotted', font_size=15)"
   ]
  },
  {
   "cell_type": "markdown",
   "metadata": {},
   "source": [
    "#### draw_networkx_edge_labels函数 "
   ]
  },
  {
   "cell_type": "raw",
   "metadata": {},
   "source": [
    "draw_networkx_edge_labels 画线的标签，参数解释如下：\n",
    "\n",
    "G (graph) – A networkx graph\n",
    "pos (dictionary) – A dictionary with nodes as keys and positions as values. Positions should be sequences of length 2.\n",
    "ax (Matplotlib Axes object, optional) – Draw the graph in the specified Matplotlib axes.\n",
    "alpha (float) – 标签字体的透明度 (default=1.0)\n",
    "edge_labels (dictionary) – 指定要画的边的标签。dict类，key是边如（x, y)，value是label。只画这个字典中包含的边。默认就画所有边的label\n",
    "label_pos (float) – label在边上的位置 (0=head, 0.5=center, 1=tail)\n",
    "font_size (int) – label字体大小 (default=12)\n",
    "font_color (string) – label字体颜色 (default=’k’ black)\n",
    "font_weight (string) – label字体加粗 (default=’normal’)\n",
    "font_family (string) – label字体 (default=’sans-serif’)\n",
    "bbox (Matplotlib bbox) – Specify text box shape and colors.\n",
    "clip_on (bool) – Turn on clipping at axis boundaries (default=True)\n",
    "\n",
    "\n",
    "Return 一个dict，key是边，value是label。"
   ]
  },
  {
   "cell_type": "code",
   "execution_count": 43,
   "metadata": {},
   "outputs": [
    {
     "ename": "TypeError",
     "evalue": "draw_networkx_edges() got an unexpected keyword argument 'font_size'",
     "output_type": "error",
     "traceback": [
      "\u001b[1;31m---------------------------------------------------------------------------\u001b[0m",
      "\u001b[1;31mTypeError\u001b[0m                                 Traceback (most recent call last)",
      "\u001b[1;32m<ipython-input-43-984f016ee3ea>\u001b[0m in \u001b[0;36m<module>\u001b[1;34m\u001b[0m\n\u001b[0;32m      2\u001b[0m \u001b[1;31m#比如整合画点、画边、画边的label三个函数，我们就可以画点、线和线的标签。\u001b[0m\u001b[1;33m\u001b[0m\u001b[1;33m\u001b[0m\u001b[1;33m\u001b[0m\u001b[0m\n\u001b[0;32m      3\u001b[0m \u001b[0mnx\u001b[0m\u001b[1;33m.\u001b[0m\u001b[0mdraw_networkx_nodes\u001b[0m\u001b[1;33m(\u001b[0m\u001b[0mG\u001b[0m\u001b[1;33m,\u001b[0m \u001b[0mpos\u001b[0m\u001b[1;33m=\u001b[0m\u001b[0mpos\u001b[0m\u001b[1;33m,\u001b[0m \u001b[0mnode_size\u001b[0m\u001b[1;33m=\u001b[0m\u001b[1;36m300\u001b[0m\u001b[1;33m,\u001b[0m \u001b[0mnode_color\u001b[0m\u001b[1;33m=\u001b[0m\u001b[1;34m'blue'\u001b[0m\u001b[1;33m,\u001b[0m \u001b[0mnode_shape\u001b[0m\u001b[1;33m=\u001b[0m\u001b[1;34m'*'\u001b[0m\u001b[1;33m,\u001b[0m \u001b[0malpha\u001b[0m\u001b[1;33m=\u001b[0m\u001b[1;36m0.5\u001b[0m\u001b[1;33m)\u001b[0m\u001b[1;33m\u001b[0m\u001b[1;33m\u001b[0m\u001b[0m\n\u001b[1;32m----> 4\u001b[1;33m \u001b[0mnx\u001b[0m\u001b[1;33m.\u001b[0m\u001b[0mdraw_networkx_edges\u001b[0m\u001b[1;33m(\u001b[0m\u001b[0mG\u001b[0m\u001b[1;33m,\u001b[0m \u001b[0mpos\u001b[0m\u001b[1;33m=\u001b[0m\u001b[0mpos\u001b[0m\u001b[1;33m,\u001b[0m \u001b[0malpha\u001b[0m\u001b[1;33m=\u001b[0m\u001b[1;36m0.5\u001b[0m\u001b[1;33m,\u001b[0m \u001b[0medge_color\u001b[0m\u001b[1;33m=\u001b[0m\u001b[1;34m'red'\u001b[0m\u001b[1;33m,\u001b[0m \u001b[0mwidth\u001b[0m\u001b[1;33m=\u001b[0m\u001b[1;36m3\u001b[0m\u001b[1;33m,\u001b[0m \u001b[0mstyle\u001b[0m\u001b[1;33m=\u001b[0m\u001b[1;34m'dotted'\u001b[0m\u001b[1;33m,\u001b[0m \u001b[0mfont_size\u001b[0m\u001b[1;33m=\u001b[0m\u001b[1;36m15\u001b[0m\u001b[1;33m)\u001b[0m\u001b[1;33m\u001b[0m\u001b[1;33m\u001b[0m\u001b[0m\n\u001b[0m\u001b[0;32m      5\u001b[0m \u001b[0mnx\u001b[0m\u001b[1;33m.\u001b[0m\u001b[0mdraw_networkx_edge_labels\u001b[0m\u001b[1;33m(\u001b[0m\u001b[0mG\u001b[0m\u001b[1;33m,\u001b[0m \u001b[0mpos\u001b[0m\u001b[1;33m=\u001b[0m\u001b[0mpos\u001b[0m\u001b[1;33m,\u001b[0m \u001b[0malpha\u001b[0m\u001b[1;33m=\u001b[0m\u001b[1;36m1\u001b[0m\u001b[1;33m,\u001b[0m \u001b[0mfont_size\u001b[0m\u001b[1;33m=\u001b[0m\u001b[1;36m10\u001b[0m\u001b[1;33m)\u001b[0m\u001b[1;33m\u001b[0m\u001b[1;33m\u001b[0m\u001b[0m\n",
      "\u001b[1;31mTypeError\u001b[0m: draw_networkx_edges() got an unexpected keyword argument 'font_size'"
     ]
    },
    {
     "data": {
      "image/png": "[encoded data removed]",
      "text/plain": [
       "<Figure size 432x288 with 1 Axes>"
      ]
     },
     "metadata": {},
     "output_type": "display_data"
    }
   ],
   "source": [
    "#上面几个函数可以搭配使用。\n",
    "#比如整合画点、画边、画边的label三个函数，我们就可以画点、线和线的标签。\n",
    "nx.draw_networkx_nodes(G, pos=pos, node_size=300, node_color='blue', node_shape='*', alpha=0.5)\n",
    "nx.draw_networkx_edges(G, pos=pos, alpha=0.5, edge_color='red', width=3, style='dotted', font_size=15)\n",
    "nx.draw_networkx_edge_labels(G, pos=pos, alpha=1, font_size=10)"
   ]
  },
  {
   "cell_type": "markdown",
   "metadata": {},
   "source": [
    "#### 画不同种类的点 "
   ]
  },
  {
   "cell_type": "markdown",
   "metadata": {},
   "source": [
    "有时候一个网络中有多种不同的节点或者不同的边，我们在可视化的时候，想要用不同颜色或者不同形状来表示不同类型的节点；或者我们希望节点的大小也能够根据节点的属性来动态调整。\n",
    "此时，图中所有的点都是一个样子就不够了。我们需要为不同的节点设定不同的样式。\n",
    "\n",
    "\n"
   ]
  },
  {
   "cell_type": "code",
   "execution_count": 45,
   "metadata": {},
   "outputs": [
    {
     "data": {
      "image/png": "[encoded data removed]",
      "text/plain": [
       "<Figure size 432x288 with 1 Axes>"
      ]
     },
     "metadata": {},
     "output_type": "display_data"
    }
   ],
   "source": [
    "# Example：\n",
    "# 有三类点：\n",
    "A = [1, 2, 3, 4, 5]\n",
    "B = ['a', 'b', 'c', 'd', 'e']\n",
    "C = ['A', 'B', 'C', 'D', 'E']\n",
    "# 有A,B,C三种类型的点，让这三种类型的点区分开来\n",
    "\n",
    "G = nx.Graph()\n",
    "# 添加点的时候指定属性\n",
    "G.add_nodes_from(A, color='red', size=100)\n",
    "G.add_nodes_from(B, color='blue', size=300)\n",
    "G.add_nodes_from(C, color='yellow', size=500)\n",
    "\n",
    "# 将各个点的属性抽取出来，组成列表\n",
    "colors = [G.nodes[i]['color'] for i in G.nodes()]\n",
    "sizes = [G.nodes[i]['size'] for i in G.nodes()]\n",
    "\n",
    "pos = nx.circular_layout(G)\n",
    "# 画图的时候指定属性即可\n",
    "nx.draw(G, pos=pos, with_labels=True, node_size=sizes, node_color=colors, node_shape='*', alpha=1, font_size=20)\n",
    "plt.show()\n",
    "\n",
    "\n",
    "#不过这里只设置了不同的node_size 和 node_color，其他属性貌似不支持传入列表迭代，例如node_shape和alpha好像都不可以.如果想不同的点设置不同的node_shape或者alpha似乎只能通过分别画点来实现。"
   ]
  },
  {
   "cell_type": "code",
   "execution_count": 48,
   "metadata": {},
   "outputs": [
    {
     "data": {
      "image/png": "[encoded data removed]",
      "text/plain": [
       "<Figure size 432x288 with 1 Axes>"
      ]
     },
     "metadata": {},
     "output_type": "display_data"
    }
   ],
   "source": [
    "#当然也可以根据节点的度数来设置节点的大小，以此来凸显网络中较为重要的节点：\n",
    "\n",
    "G = nx.Graph()  # 创建一个新的图G\n",
    "G.add_nodes_from([x for x in range(100)])  # 添加100个节点\n",
    "edges = [(a, b) for a, b in zip(np.random.randint(1, 100, 150), np.random.randint(1, 100, 150))]  # 随机产生150条边（可能有重复的边）\n",
    "G.add_edges_from(edges)  # 添加边\n",
    "\n",
    "sizes = [30 + G.degree(v) * 100 for v in G.nodes()]  # 得到每个节点的度数\n",
    "\n",
    "pos = nx.spring_layout(G)\n",
    "nx.draw(G, pos=pos, with_labels=True, node_size=sizes, node_color=sizes, node_shape='o', alpha=0.7, font_size=20)  # 将节点的度数设置为node_size 和 node_color\n",
    "plt.show()\n",
    "\n"
   ]
  },
  {
   "cell_type": "code",
   "execution_count": null,
   "metadata": {},
   "outputs": [],
   "source": []
  }
 ],
 "metadata": {
  "kernelspec": {
   "display_name": "Python 3",
   "language": "python",
   "name": "python3"
  },
  "language_info": {
   "codemirror_mode": {
    "name": "ipython",
    "version": 3
   },
   "file_extension": ".py",
   "mimetype": "text/x-python",
   "name": "python",
   "nbconvert_exporter": "python",
   "pygments_lexer": "ipython3",
   "version": "3.8.5"
  }
 },
 "nbformat": 4,
 "nbformat_minor": 4
}
